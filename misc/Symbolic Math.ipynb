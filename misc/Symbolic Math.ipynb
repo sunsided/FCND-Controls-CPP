{
 "cells": [
  {
   "cell_type": "markdown",
   "metadata": {},
   "source": [
    "# The answer is 42\n",
    "\n",
    "**TL;DR:** The solution is at the bottom."
   ]
  },
  {
   "cell_type": "code",
   "execution_count": 527,
   "metadata": {},
   "outputs": [],
   "source": [
    "import sympy as sym"
   ]
  },
  {
   "cell_type": "markdown",
   "metadata": {},
   "source": [
    "## Solving propeller angular velocities"
   ]
  },
  {
   "cell_type": "code",
   "execution_count": 528,
   "metadata": {},
   "outputs": [
    {
     "data": {
      "text/latex": [
       "$\\displaystyle c_{bar}$"
      ],
      "text/plain": [
       "c_bar"
      ]
     },
     "execution_count": 528,
     "metadata": {},
     "output_type": "execute_result"
    }
   ],
   "source": [
    "c_bar, p_bar, q_bar, r_bar = sym.symbols('c_bar, p_bar, q_bar, r_bar')\n",
    "c_bar"
   ]
  },
  {
   "cell_type": "code",
   "execution_count": 529,
   "metadata": {},
   "outputs": [
    {
     "data": {
      "text/latex": [
       "$\\displaystyle \\omega_{1}$"
      ],
      "text/plain": [
       "omega_1"
      ]
     },
     "execution_count": 529,
     "metadata": {},
     "output_type": "execute_result"
    }
   ],
   "source": [
    "om_1, om_2, om_3, om_4 = sym.symbols('omega_1, omega_2, omega_3, omega_4')\n",
    "om_1"
   ]
  },
  {
   "cell_type": "code",
   "execution_count": 530,
   "metadata": {},
   "outputs": [
    {
     "data": {
      "text/latex": [
       "$\\displaystyle \\omega_{1}^{2}$"
      ],
      "text/plain": [
       "omega_1**2"
      ]
     },
     "execution_count": 530,
     "metadata": {},
     "output_type": "execute_result"
    }
   ],
   "source": [
    "om_1_sq = om_1 ** 2\n",
    "om_2_sq = om_2 ** 2\n",
    "om_3_sq = om_3 ** 2\n",
    "om_4_sq = om_4 ** 2\n",
    "om_1_sq"
   ]
  },
  {
   "cell_type": "code",
   "execution_count": 531,
   "metadata": {},
   "outputs": [
    {
     "data": {
      "text/latex": [
       "$\\displaystyle \\left[\\begin{matrix}c_{bar}\\\\p_{bar}\\\\q_{bar}\\\\r_{bar}\\end{matrix}\\right]$"
      ],
      "text/plain": [
       "Matrix([\n",
       "[c_bar],\n",
       "[p_bar],\n",
       "[q_bar],\n",
       "[r_bar]])"
      ]
     },
     "execution_count": 531,
     "metadata": {},
     "output_type": "execute_result"
    }
   ],
   "source": [
    "cpqr = sym.Matrix([c_bar, p_bar, q_bar, r_bar])\n",
    "cpqr"
   ]
  },
  {
   "cell_type": "code",
   "execution_count": 532,
   "metadata": {},
   "outputs": [
    {
     "data": {
      "text/latex": [
       "$\\displaystyle \\left[\\begin{matrix}1 & 1 & 1 & 1\\\\1 & -1 & -1 & 1\\\\1 & 1 & -1 & -1\\\\1 & -1 & 1 & -1\\end{matrix}\\right]$"
      ],
      "text/plain": [
       "Matrix([\n",
       "[1,  1,  1,  1],\n",
       "[1, -1, -1,  1],\n",
       "[1,  1, -1, -1],\n",
       "[1, -1,  1, -1]])"
      ]
     },
     "execution_count": 532,
     "metadata": {},
     "output_type": "execute_result"
    }
   ],
   "source": [
    "D = sym.Matrix([[1,  1,  1,  1], \n",
    "                [1, -1, -1,  1], \n",
    "                [1,  1, -1, -1],\n",
    "                [1, -1,  1, -1]])\n",
    "D"
   ]
  },
  {
   "cell_type": "code",
   "execution_count": 533,
   "metadata": {},
   "outputs": [
    {
     "data": {
      "text/latex": [
       "$\\displaystyle \\left[\\begin{matrix}\\omega_{1}^{2}\\\\\\omega_{2}^{2}\\\\\\omega_{3}^{2}\\\\\\omega_{4}^{2}\\end{matrix}\\right]$"
      ],
      "text/plain": [
       "Matrix([\n",
       "[omega_1**2],\n",
       "[omega_2**2],\n",
       "[omega_3**2],\n",
       "[omega_4**2]])"
      ]
     },
     "execution_count": 533,
     "metadata": {},
     "output_type": "execute_result"
    }
   ],
   "source": [
    "omegas = sym.Matrix([om_1_sq, om_2_sq, om_3_sq, om_4_sq])\n",
    "omegas"
   ]
  },
  {
   "cell_type": "markdown",
   "metadata": {},
   "source": [
    "So we have"
   ]
  },
  {
   "cell_type": "code",
   "execution_count": 534,
   "metadata": {},
   "outputs": [
    {
     "data": {
      "text/latex": [
       "$\\displaystyle \\left[\\begin{matrix}c_{bar}\\\\p_{bar}\\\\q_{bar}\\\\r_{bar}\\end{matrix}\\right] = \\left[\\begin{matrix}\\omega_{1}^{2} + \\omega_{2}^{2} + \\omega_{3}^{2} + \\omega_{4}^{2}\\\\\\omega_{1}^{2} - \\omega_{2}^{2} - \\omega_{3}^{2} + \\omega_{4}^{2}\\\\\\omega_{1}^{2} + \\omega_{2}^{2} - \\omega_{3}^{2} - \\omega_{4}^{2}\\\\\\omega_{1}^{2} - \\omega_{2}^{2} + \\omega_{3}^{2} - \\omega_{4}^{2}\\end{matrix}\\right]$"
      ],
      "text/plain": [
       "Eq(Matrix([\n",
       "[c_bar],\n",
       "[p_bar],\n",
       "[q_bar],\n",
       "[r_bar]]), Matrix([\n",
       "[omega_1**2 + omega_2**2 + omega_3**2 + omega_4**2],\n",
       "[omega_1**2 - omega_2**2 - omega_3**2 + omega_4**2],\n",
       "[omega_1**2 + omega_2**2 - omega_3**2 - omega_4**2],\n",
       "[omega_1**2 - omega_2**2 + omega_3**2 - omega_4**2]]))"
      ]
     },
     "execution_count": 534,
     "metadata": {},
     "output_type": "execute_result"
    }
   ],
   "source": [
    "sym.Eq(cpqr, D*omegas)"
   ]
  },
  {
   "cell_type": "markdown",
   "metadata": {},
   "source": [
    "Solving the system for $\\omega^2_1$, $\\omega^2_2$, $\\omega^2_3$ and $\\omega^2_4$ gives"
   ]
  },
  {
   "cell_type": "code",
   "execution_count": 535,
   "metadata": {},
   "outputs": [
    {
     "data": {
      "text/plain": [
       "{omega_1**2: c_bar/4 + p_bar/4 + q_bar/4 + r_bar/4,\n",
       " omega_2**2: c_bar/4 - p_bar/4 + q_bar/4 - r_bar/4,\n",
       " omega_3**2: c_bar/4 - p_bar/4 - q_bar/4 + r_bar/4,\n",
       " omega_4**2: c_bar/4 + p_bar/4 - q_bar/4 - r_bar/4}"
      ]
     },
     "execution_count": 535,
     "metadata": {},
     "output_type": "execute_result"
    }
   ],
   "source": [
    "sym.solve([sym.Eq(cpqr, D*omegas)], [om_1_sq, om_2_sq, om_3_sq, om_4_sq])"
   ]
  },
  {
   "cell_type": "markdown",
   "metadata": {},
   "source": [
    "Which is the same as"
   ]
  },
  {
   "cell_type": "code",
   "execution_count": 536,
   "metadata": {},
   "outputs": [
    {
     "data": {
      "text/latex": [
       "$\\displaystyle \\left[\\begin{matrix}\\frac{c_{bar}}{4} + \\frac{p_{bar}}{4} + \\frac{q_{bar}}{4} + \\frac{r_{bar}}{4}\\\\\\frac{c_{bar}}{4} - \\frac{p_{bar}}{4} + \\frac{q_{bar}}{4} - \\frac{r_{bar}}{4}\\\\\\frac{c_{bar}}{4} - \\frac{p_{bar}}{4} - \\frac{q_{bar}}{4} + \\frac{r_{bar}}{4}\\\\\\frac{c_{bar}}{4} + \\frac{p_{bar}}{4} - \\frac{q_{bar}}{4} - \\frac{r_{bar}}{4}\\end{matrix}\\right]$"
      ],
      "text/plain": [
       "Matrix([\n",
       "[c_bar/4 + p_bar/4 + q_bar/4 + r_bar/4],\n",
       "[c_bar/4 - p_bar/4 + q_bar/4 - r_bar/4],\n",
       "[c_bar/4 - p_bar/4 - q_bar/4 + r_bar/4],\n",
       "[c_bar/4 + p_bar/4 - q_bar/4 - r_bar/4]])"
      ]
     },
     "execution_count": 536,
     "metadata": {},
     "output_type": "execute_result"
    }
   ],
   "source": [
    "D.inv()*cpqr"
   ]
  },
  {
   "cell_type": "markdown",
   "metadata": {},
   "source": [
    "or `x = A.LUsolve(b)` given $b = Ax$ (so $\\Omega = D^{-1} C_{cpqr})$:"
   ]
  },
  {
   "cell_type": "code",
   "execution_count": 537,
   "metadata": {},
   "outputs": [
    {
     "data": {
      "text/latex": [
       "$\\displaystyle \\left[\\begin{matrix}\\frac{c_{bar}}{4} + \\frac{p_{bar}}{4} + \\frac{q_{bar}}{4} + \\frac{r_{bar}}{4}\\\\\\frac{c_{bar}}{4} - \\frac{p_{bar}}{4} + \\frac{q_{bar}}{4} - \\frac{r_{bar}}{4}\\\\\\frac{c_{bar}}{4} - \\frac{p_{bar}}{4} - \\frac{q_{bar}}{4} + \\frac{r_{bar}}{4}\\\\\\frac{c_{bar}}{4} + \\frac{p_{bar}}{4} - \\frac{q_{bar}}{4} - \\frac{r_{bar}}{4}\\end{matrix}\\right]$"
      ],
      "text/plain": [
       "Matrix([\n",
       "[c_bar/4 + p_bar/4 + q_bar/4 + r_bar/4],\n",
       "[c_bar/4 - p_bar/4 + q_bar/4 - r_bar/4],\n",
       "[c_bar/4 - p_bar/4 - q_bar/4 + r_bar/4],\n",
       "[c_bar/4 + p_bar/4 - q_bar/4 - r_bar/4]])"
      ]
     },
     "execution_count": 537,
     "metadata": {},
     "output_type": "execute_result"
    }
   ],
   "source": [
    "D.LUsolve(cpqr)"
   ]
  },
  {
   "cell_type": "markdown",
   "metadata": {},
   "source": [
    "## Motor Commands"
   ]
  },
  {
   "cell_type": "code",
   "execution_count": 538,
   "metadata": {},
   "outputs": [],
   "source": [
    "L, kappa, k_f, k_m = sym.symbols('L, kappa, k_f, k_m')\n",
    "Ixx, Iyy, Izz = sym.symbols('I_x, I_y, I_z')\n",
    "F1, F2, F3, F4 = sym.symbols('F_1, F_2, F_3, F_4')\n",
    "tau_x, tau_y, tau_z = sym.symbols('tau_x, tau_y, tau_z')\n",
    "tau_1, tau_2, tau_3, tau_4 = sym.symbols('tau_1, tau_2, tau_3, tau_4')"
   ]
  },
  {
   "cell_type": "markdown",
   "metadata": {},
   "source": [
    "Here's the perpendicular distance of the rotors to the center of mass:"
   ]
  },
  {
   "cell_type": "code",
   "execution_count": 539,
   "metadata": {},
   "outputs": [
    {
     "data": {
      "text/latex": [
       "$\\displaystyle \\frac{\\sqrt{2} L}{2}$"
      ],
      "text/plain": [
       "sqrt(2)*L/2"
      ]
     },
     "execution_count": 539,
     "metadata": {},
     "output_type": "execute_result"
    }
   ],
   "source": [
    "l = L / sym.sqrt(2)\n",
    "l"
   ]
  },
  {
   "cell_type": "markdown",
   "metadata": {},
   "source": [
    "But for simplicity, let's just go with $l$ for the time being:"
   ]
  },
  {
   "cell_type": "code",
   "execution_count": 540,
   "metadata": {},
   "outputs": [
    {
     "data": {
      "text/latex": [
       "$\\displaystyle l$"
      ],
      "text/plain": [
       "l"
      ]
     },
     "execution_count": 540,
     "metadata": {},
     "output_type": "execute_result"
    }
   ],
   "source": [
    "l = sym.Symbol('l')\n",
    "l"
   ]
  },
  {
   "cell_type": "markdown",
   "metadata": {},
   "source": [
    "The collective thrust:"
   ]
  },
  {
   "cell_type": "code",
   "execution_count": 541,
   "metadata": {},
   "outputs": [
    {
     "data": {
      "text/latex": [
       "$\\displaystyle F_{1} + F_{2} + F_{3} + F_{4}$"
      ],
      "text/plain": [
       "F_1 + F_2 + F_3 + F_4"
      ]
     },
     "execution_count": 541,
     "metadata": {},
     "output_type": "execute_result"
    }
   ],
   "source": [
    "F = F1 + F2 + F3 + F4\n",
    "F"
   ]
  },
  {
   "cell_type": "markdown",
   "metadata": {},
   "source": [
    "Defining $\\bar{u}_p$, $\\bar{u}_q$ and $\\bar{u}_r$:"
   ]
  },
  {
   "cell_type": "code",
   "execution_count": 542,
   "metadata": {},
   "outputs": [
    {
     "data": {
      "text/latex": [
       "$\\displaystyle \\frac{\\tau_{x}}{I_{x}}$"
      ],
      "text/plain": [
       "tau_x/I_x"
      ]
     },
     "execution_count": 542,
     "metadata": {},
     "output_type": "execute_result"
    }
   ],
   "source": [
    "u_p_bar = tau_x / Ixx\n",
    "u_q_bar = tau_y / Iyy\n",
    "u_r_bar = tau_z / Izz\n",
    "u_p_bar"
   ]
  },
  {
   "cell_type": "markdown",
   "metadata": {},
   "source": [
    "Defining $\\bar{c}$, $\\bar{p}$, $\\bar{q}$ and $\\bar{r}$:"
   ]
  },
  {
   "cell_type": "code",
   "execution_count": 543,
   "metadata": {},
   "outputs": [],
   "source": [
    "c_bar = F\n",
    "p_bar = Ixx * u_p_bar / (k_f * l)\n",
    "q_bar = Iyy * u_q_bar / (k_f * l)\n",
    "r_bar = Izz * u_r_bar / k_m"
   ]
  },
  {
   "cell_type": "code",
   "execution_count": 544,
   "metadata": {},
   "outputs": [
    {
     "data": {
      "text/latex": [
       "$\\displaystyle \\frac{\\tau_{x}}{k_{f} l}$"
      ],
      "text/plain": [
       "tau_x/(k_f*l)"
      ]
     },
     "execution_count": 544,
     "metadata": {},
     "output_type": "execute_result"
    }
   ],
   "source": [
    "p_bar"
   ]
  },
  {
   "cell_type": "code",
   "execution_count": 545,
   "metadata": {},
   "outputs": [
    {
     "data": {
      "text/latex": [
       "$\\displaystyle \\frac{\\tau_{z}}{k_{m}}$"
      ],
      "text/plain": [
       "tau_z/k_m"
      ]
     },
     "execution_count": 545,
     "metadata": {},
     "output_type": "execute_result"
    }
   ],
   "source": [
    "r_bar"
   ]
  },
  {
   "cell_type": "markdown",
   "metadata": {},
   "source": [
    "We redefine the $C_{cpqr}$ vector using it's actual definitions:"
   ]
  },
  {
   "cell_type": "code",
   "execution_count": 546,
   "metadata": {},
   "outputs": [
    {
     "data": {
      "text/latex": [
       "$\\displaystyle \\left[\\begin{matrix}F_{1} + F_{2} + F_{3} + F_{4}\\\\\\frac{\\tau_{x}}{k_{f} l}\\\\\\frac{\\tau_{y}}{k_{f} l}\\\\\\frac{\\tau_{z}}{k_{m}}\\end{matrix}\\right]$"
      ],
      "text/plain": [
       "Matrix([\n",
       "[F_1 + F_2 + F_3 + F_4],\n",
       "[        tau_x/(k_f*l)],\n",
       "[        tau_y/(k_f*l)],\n",
       "[            tau_z/k_m]])"
      ]
     },
     "execution_count": 546,
     "metadata": {},
     "output_type": "execute_result"
    }
   ],
   "source": [
    "cpqr = sym.Matrix([c_bar, p_bar, q_bar, r_bar])\n",
    "cpqr"
   ]
  },
  {
   "cell_type": "markdown",
   "metadata": {},
   "source": [
    "Similar to the equation system in the first section, we have $C_{cpqr} = D \\cdot \\Omega$:"
   ]
  },
  {
   "cell_type": "code",
   "execution_count": 547,
   "metadata": {},
   "outputs": [
    {
     "data": {
      "text/latex": [
       "$\\displaystyle \\left[\\begin{matrix}F_{1} + F_{2} + F_{3} + F_{4}\\\\\\frac{\\tau_{x}}{k_{f} l}\\\\\\frac{\\tau_{y}}{k_{f} l}\\\\\\frac{\\tau_{z}}{k_{m}}\\end{matrix}\\right] = \\left[\\begin{matrix}\\omega_{1}^{2} + \\omega_{2}^{2} + \\omega_{3}^{2} + \\omega_{4}^{2}\\\\\\omega_{1}^{2} - \\omega_{2}^{2} - \\omega_{3}^{2} + \\omega_{4}^{2}\\\\\\omega_{1}^{2} + \\omega_{2}^{2} - \\omega_{3}^{2} - \\omega_{4}^{2}\\\\\\omega_{1}^{2} - \\omega_{2}^{2} + \\omega_{3}^{2} - \\omega_{4}^{2}\\end{matrix}\\right]$"
      ],
      "text/plain": [
       "Eq(Matrix([\n",
       "[F_1 + F_2 + F_3 + F_4],\n",
       "[        tau_x/(k_f*l)],\n",
       "[        tau_y/(k_f*l)],\n",
       "[            tau_z/k_m]]), Matrix([\n",
       "[omega_1**2 + omega_2**2 + omega_3**2 + omega_4**2],\n",
       "[omega_1**2 - omega_2**2 - omega_3**2 + omega_4**2],\n",
       "[omega_1**2 + omega_2**2 - omega_3**2 - omega_4**2],\n",
       "[omega_1**2 - omega_2**2 + omega_3**2 - omega_4**2]]))"
      ]
     },
     "execution_count": 547,
     "metadata": {},
     "output_type": "execute_result"
    }
   ],
   "source": [
    "eq_1 = sym.Eq(cpqr, D*omegas)\n",
    "eq_1"
   ]
  },
  {
   "cell_type": "markdown",
   "metadata": {},
   "source": [
    "And solving for $\\Omega$ using $\\Omega = D^{-1} \\cdot C_{cpqr}$ gives"
   ]
  },
  {
   "cell_type": "code",
   "execution_count": 548,
   "metadata": {},
   "outputs": [
    {
     "data": {
      "text/latex": [
       "$\\displaystyle \\left[\\begin{matrix}\\omega_{1}^{2}\\\\\\omega_{2}^{2}\\\\\\omega_{3}^{2}\\\\\\omega_{4}^{2}\\end{matrix}\\right] = \\left[\\begin{matrix}\\frac{F_{1}}{4} + \\frac{F_{2}}{4} + \\frac{F_{3}}{4} + \\frac{F_{4}}{4} + \\frac{\\tau_{z}}{4 k_{m}} + \\frac{\\tau_{x}}{4 k_{f} l} + \\frac{\\tau_{y}}{4 k_{f} l}\\\\\\frac{F_{1}}{4} + \\frac{F_{2}}{4} + \\frac{F_{3}}{4} + \\frac{F_{4}}{4} - \\frac{\\tau_{z}}{4 k_{m}} - \\frac{\\tau_{x}}{4 k_{f} l} + \\frac{\\tau_{y}}{4 k_{f} l}\\\\\\frac{F_{1}}{4} + \\frac{F_{2}}{4} + \\frac{F_{3}}{4} + \\frac{F_{4}}{4} + \\frac{\\tau_{z}}{4 k_{m}} - \\frac{\\tau_{x}}{4 k_{f} l} - \\frac{\\tau_{y}}{4 k_{f} l}\\\\\\frac{F_{1}}{4} + \\frac{F_{2}}{4} + \\frac{F_{3}}{4} + \\frac{F_{4}}{4} - \\frac{\\tau_{z}}{4 k_{m}} + \\frac{\\tau_{x}}{4 k_{f} l} - \\frac{\\tau_{y}}{4 k_{f} l}\\end{matrix}\\right]$"
      ],
      "text/plain": [
       "Eq(Matrix([\n",
       "[omega_1**2],\n",
       "[omega_2**2],\n",
       "[omega_3**2],\n",
       "[omega_4**2]]), Matrix([\n",
       "[F_1/4 + F_2/4 + F_3/4 + F_4/4 + tau_z/(4*k_m) + tau_x/(4*k_f*l) + tau_y/(4*k_f*l)],\n",
       "[F_1/4 + F_2/4 + F_3/4 + F_4/4 - tau_z/(4*k_m) - tau_x/(4*k_f*l) + tau_y/(4*k_f*l)],\n",
       "[F_1/4 + F_2/4 + F_3/4 + F_4/4 + tau_z/(4*k_m) - tau_x/(4*k_f*l) - tau_y/(4*k_f*l)],\n",
       "[F_1/4 + F_2/4 + F_3/4 + F_4/4 - tau_z/(4*k_m) + tau_x/(4*k_f*l) - tau_y/(4*k_f*l)]]))"
      ]
     },
     "execution_count": 548,
     "metadata": {},
     "output_type": "execute_result"
    }
   ],
   "source": [
    "eq_2 = sym.Eq(omegas, D.inv() * cpqr)\n",
    "eq_2"
   ]
  },
  {
   "cell_type": "markdown",
   "metadata": {},
   "source": [
    "In order to get torque from squared rotational velocities, we need to factor in $k_m$:"
   ]
  },
  {
   "cell_type": "code",
   "execution_count": 549,
   "metadata": {},
   "outputs": [
    {
     "data": {
      "text/latex": [
       "$\\displaystyle \\left[\\begin{matrix}\\tau_{1}\\\\\\tau_{2}\\\\\\tau_{3}\\\\\\tau_{4}\\end{matrix}\\right] = \\left[\\begin{matrix}\\frac{k_{m} \\left(F_{1} + F_{2} + F_{3} + F_{4}\\right)}{4} + \\frac{\\tau_{z}}{4} + \\frac{k_{m} \\tau_{x}}{4 k_{f} l} + \\frac{k_{m} \\tau_{y}}{4 k_{f} l}\\\\\\frac{k_{m} \\left(F_{1} + F_{2} + F_{3} + F_{4}\\right)}{4} - \\frac{\\tau_{z}}{4} - \\frac{k_{m} \\tau_{x}}{4 k_{f} l} + \\frac{k_{m} \\tau_{y}}{4 k_{f} l}\\\\\\frac{k_{m} \\left(F_{1} + F_{2} + F_{3} + F_{4}\\right)}{4} + \\frac{\\tau_{z}}{4} - \\frac{k_{m} \\tau_{x}}{4 k_{f} l} - \\frac{k_{m} \\tau_{y}}{4 k_{f} l}\\\\\\frac{k_{m} \\left(F_{1} + F_{2} + F_{3} + F_{4}\\right)}{4} - \\frac{\\tau_{z}}{4} + \\frac{k_{m} \\tau_{x}}{4 k_{f} l} - \\frac{k_{m} \\tau_{y}}{4 k_{f} l}\\end{matrix}\\right]$"
      ],
      "text/plain": [
       "Eq(Matrix([\n",
       "[tau_1],\n",
       "[tau_2],\n",
       "[tau_3],\n",
       "[tau_4]]), Matrix([\n",
       "[k_m*(F_1 + F_2 + F_3 + F_4)/4 + tau_z/4 + k_m*tau_x/(4*k_f*l) + k_m*tau_y/(4*k_f*l)],\n",
       "[k_m*(F_1 + F_2 + F_3 + F_4)/4 - tau_z/4 - k_m*tau_x/(4*k_f*l) + k_m*tau_y/(4*k_f*l)],\n",
       "[k_m*(F_1 + F_2 + F_3 + F_4)/4 + tau_z/4 - k_m*tau_x/(4*k_f*l) - k_m*tau_y/(4*k_f*l)],\n",
       "[k_m*(F_1 + F_2 + F_3 + F_4)/4 - tau_z/4 + k_m*tau_x/(4*k_f*l) - k_m*tau_y/(4*k_f*l)]]))"
      ]
     },
     "execution_count": 549,
     "metadata": {},
     "output_type": "execute_result"
    }
   ],
   "source": [
    "taus = sym.Matrix([tau_1, tau_2, tau_3, tau_4])\n",
    "eq_3 = sym.Eq(taus, k_m * D.inv() * cpqr)\n",
    "eq_3"
   ]
  },
  {
   "cell_type": "markdown",
   "metadata": {},
   "source": [
    "And to obtain individual forces from the torques, we need to divide by the perpendicular length:"
   ]
  },
  {
   "cell_type": "code",
   "execution_count": 550,
   "metadata": {},
   "outputs": [
    {
     "data": {
      "text/latex": [
       "$\\displaystyle \\left[\\begin{matrix}F_{1}\\\\F_{2}\\\\F_{3}\\\\F_{4}\\end{matrix}\\right] = \\left[\\begin{matrix}\\frac{k_{m} \\left(F_{1} + F_{2} + F_{3} + F_{4}\\right)}{4 l} + \\frac{\\tau_{z}}{4 l} + \\frac{k_{m} \\tau_{x}}{4 k_{f} l^{2}} + \\frac{k_{m} \\tau_{y}}{4 k_{f} l^{2}}\\\\\\frac{k_{m} \\left(F_{1} + F_{2} + F_{3} + F_{4}\\right)}{4 l} - \\frac{\\tau_{z}}{4 l} - \\frac{k_{m} \\tau_{x}}{4 k_{f} l^{2}} + \\frac{k_{m} \\tau_{y}}{4 k_{f} l^{2}}\\\\\\frac{k_{m} \\left(F_{1} + F_{2} + F_{3} + F_{4}\\right)}{4 l} + \\frac{\\tau_{z}}{4 l} - \\frac{k_{m} \\tau_{x}}{4 k_{f} l^{2}} - \\frac{k_{m} \\tau_{y}}{4 k_{f} l^{2}}\\\\\\frac{k_{m} \\left(F_{1} + F_{2} + F_{3} + F_{4}\\right)}{4 l} - \\frac{\\tau_{z}}{4 l} + \\frac{k_{m} \\tau_{x}}{4 k_{f} l^{2}} - \\frac{k_{m} \\tau_{y}}{4 k_{f} l^{2}}\\end{matrix}\\right]$"
      ],
      "text/plain": [
       "Eq(Matrix([\n",
       "[F_1],\n",
       "[F_2],\n",
       "[F_3],\n",
       "[F_4]]), Matrix([\n",
       "[k_m*(F_1 + F_2 + F_3 + F_4)/(4*l) + tau_z/(4*l) + k_m*tau_x/(4*k_f*l**2) + k_m*tau_y/(4*k_f*l**2)],\n",
       "[k_m*(F_1 + F_2 + F_3 + F_4)/(4*l) - tau_z/(4*l) - k_m*tau_x/(4*k_f*l**2) + k_m*tau_y/(4*k_f*l**2)],\n",
       "[k_m*(F_1 + F_2 + F_3 + F_4)/(4*l) + tau_z/(4*l) - k_m*tau_x/(4*k_f*l**2) - k_m*tau_y/(4*k_f*l**2)],\n",
       "[k_m*(F_1 + F_2 + F_3 + F_4)/(4*l) - tau_z/(4*l) + k_m*tau_x/(4*k_f*l**2) - k_m*tau_y/(4*k_f*l**2)]]))"
      ]
     },
     "execution_count": 550,
     "metadata": {},
     "output_type": "execute_result"
    }
   ],
   "source": [
    "forces = sym.Matrix([F1, F2, F3, F4])\n",
    "eq_4 = sym.Eq(forces, k_m / l * D.inv() * cpqr)\n",
    "eq_4"
   ]
  },
  {
   "cell_type": "markdown",
   "metadata": {},
   "source": [
    "Note that we can still substitute the sum of the individual forces $F_1$, $F_2$, $F_3$, $F_4$ with the collective thrust $F$:"
   ]
  },
  {
   "cell_type": "code",
   "execution_count": 551,
   "metadata": {},
   "outputs": [
    {
     "data": {
      "text/latex": [
       "$\\displaystyle \\left[\\begin{matrix}F_{1}\\\\F_{2}\\\\F_{3}\\\\F_{4}\\end{matrix}\\right] = \\left[\\begin{matrix}\\frac{F k_{m}}{4 l} + \\frac{\\tau_{z}}{4 l} + \\frac{k_{m} \\tau_{x}}{4 k_{f} l^{2}} + \\frac{k_{m} \\tau_{y}}{4 k_{f} l^{2}}\\\\\\frac{F k_{m}}{4 l} - \\frac{\\tau_{z}}{4 l} - \\frac{k_{m} \\tau_{x}}{4 k_{f} l^{2}} + \\frac{k_{m} \\tau_{y}}{4 k_{f} l^{2}}\\\\\\frac{F k_{m}}{4 l} + \\frac{\\tau_{z}}{4 l} - \\frac{k_{m} \\tau_{x}}{4 k_{f} l^{2}} - \\frac{k_{m} \\tau_{y}}{4 k_{f} l^{2}}\\\\\\frac{F k_{m}}{4 l} - \\frac{\\tau_{z}}{4 l} + \\frac{k_{m} \\tau_{x}}{4 k_{f} l^{2}} - \\frac{k_{m} \\tau_{y}}{4 k_{f} l^{2}}\\end{matrix}\\right]$"
      ],
      "text/plain": [
       "Eq(Matrix([\n",
       "[F_1],\n",
       "[F_2],\n",
       "[F_3],\n",
       "[F_4]]), Matrix([\n",
       "[F*k_m/(4*l) + tau_z/(4*l) + k_m*tau_x/(4*k_f*l**2) + k_m*tau_y/(4*k_f*l**2)],\n",
       "[F*k_m/(4*l) - tau_z/(4*l) - k_m*tau_x/(4*k_f*l**2) + k_m*tau_y/(4*k_f*l**2)],\n",
       "[F*k_m/(4*l) + tau_z/(4*l) - k_m*tau_x/(4*k_f*l**2) - k_m*tau_y/(4*k_f*l**2)],\n",
       "[F*k_m/(4*l) - tau_z/(4*l) + k_m*tau_x/(4*k_f*l**2) - k_m*tau_y/(4*k_f*l**2)]]))"
      ]
     },
     "execution_count": 551,
     "metadata": {},
     "output_type": "execute_result"
    }
   ],
   "source": [
    "eq_5 = sym.Eq(forces, k_m / l * D.inv() * cpqr).subs(F, sym.Symbol('F'))\n",
    "eq_5"
   ]
  },
  {
   "cell_type": "markdown",
   "metadata": {},
   "source": [
    "Note the common factor of $\\frac{1}{4\\cdot l}$."
   ]
  },
  {
   "cell_type": "markdown",
   "metadata": {},
   "source": [
    "Now the problem remains that we do not know the quantities $k_m$ and $k_f$ as far as the code is concerned."
   ]
  },
  {
   "cell_type": "markdown",
   "metadata": {},
   "source": [
    "One interesting aspect is in the definitions\n",
    "\n",
    "$$\n",
    "\\begin{align}\n",
    "F &= k_f \\cdot \\omega^2 \\\\\n",
    "\\tau &= k_m \\cdot \\omega^2 \\\\\n",
    "\\tau &= F \\cdot l\n",
    "\\end{align}\n",
    "$$\n",
    "\n",
    "By substituting $F$, we get\n",
    "\n",
    "$$\n",
    "\\begin{align}\n",
    "k_m \\cdot \\omega^2 &= k_f \\cdot \\omega^2 \\cdot l \\\\\n",
    "k_m &= k_f \\cdot l\n",
    "\\end{align}\n",
    "$$"
   ]
  },
  {
   "cell_type": "markdown",
   "metadata": {},
   "source": [
    "If we substitute occurrences of $k_f \\cdot l$ with $k_m$, we arrive at the much shorter"
   ]
  },
  {
   "cell_type": "code",
   "execution_count": 552,
   "metadata": {},
   "outputs": [
    {
     "data": {
      "text/latex": [
       "$\\displaystyle \\left[\\begin{matrix}F_{1}\\\\F_{2}\\\\F_{3}\\\\F_{4}\\end{matrix}\\right] = \\left[\\begin{matrix}\\frac{F k_{m} + \\tau_{x} + \\tau_{y} + \\tau_{z}}{4 l}\\\\\\frac{F k_{m} - \\tau_{x} + \\tau_{y} - \\tau_{z}}{4 l}\\\\\\frac{F k_{m} - \\tau_{x} - \\tau_{y} + \\tau_{z}}{4 l}\\\\\\frac{F k_{m} + \\tau_{x} - \\tau_{y} - \\tau_{z}}{4 l}\\end{matrix}\\right]$"
      ],
      "text/plain": [
       "Eq(Matrix([\n",
       "[F_1],\n",
       "[F_2],\n",
       "[F_3],\n",
       "[F_4]]), Matrix([\n",
       "[(F*k_m + tau_x + tau_y + tau_z)/(4*l)],\n",
       "[(F*k_m - tau_x + tau_y - tau_z)/(4*l)],\n",
       "[(F*k_m - tau_x - tau_y + tau_z)/(4*l)],\n",
       "[(F*k_m + tau_x - tau_y - tau_z)/(4*l)]]))"
      ]
     },
     "execution_count": 552,
     "metadata": {},
     "output_type": "execute_result"
    }
   ],
   "source": [
    "sym.simplify(eq_5.subs(l * kf, km))"
   ]
  },
  {
   "cell_type": "markdown",
   "metadata": {},
   "source": [
    "However, we still have a stray $k_m$ in there. Note that the _values_ of $\\tau$ are the same, but the physical meaning may has changed due to normalization we just did. That is, if the math is correct."
   ]
  },
  {
   "cell_type": "markdown",
   "metadata": {},
   "source": [
    "## So everything was wrong?"
   ]
  },
  {
   "cell_type": "markdown",
   "metadata": {},
   "source": [
    "Let's try again."
   ]
  },
  {
   "cell_type": "code",
   "execution_count": 553,
   "metadata": {},
   "outputs": [],
   "source": [
    "l, L, kappa, kf, km = sym.symbols('l, L, kappa, k_f, k_m')\n",
    "Ixx, Iyy, Izz = sym.symbols('I_x, I_y, I_z')\n",
    "F, F1, F2, F3, F4 = sym.symbols('F, F_1, F_2, F_3, F_4')\n",
    "tau_x, tau_y, tau_z = sym.symbols('tau_x, tau_y, tau_z')\n",
    "tau_1, tau_2, tau_3, tau_4 = sym.symbols('tau_1, tau_2, tau_3, tau_4')"
   ]
  },
  {
   "cell_type": "code",
   "execution_count": 554,
   "metadata": {},
   "outputs": [],
   "source": [
    "c_bar, p_bar, q_bar, r_bar = sym.symbols('c_bar, p_bar, q_bar, r_bar')\n",
    "u_p_bar, u_q_bar, u_r_bar = sym.symbols('u_p_bar, u_q_bar, u_r_bar')\n",
    "om_1, om_2, om_3, om_4 = sym.symbols('omega_1, omega_2, omega_3, omega_4')"
   ]
  },
  {
   "cell_type": "markdown",
   "metadata": {},
   "source": [
    "Let's set up some relations."
   ]
  },
  {
   "cell_type": "code",
   "execution_count": 555,
   "metadata": {},
   "outputs": [
    {
     "data": {
      "text/latex": [
       "$\\displaystyle l = \\frac{\\sqrt{2} L}{2}$"
      ],
      "text/plain": [
       "Eq(l, sqrt(2)*L/2)"
      ]
     },
     "metadata": {},
     "output_type": "display_data"
    }
   ],
   "source": [
    "l_eq = sym.Eq(l, L / sym.sqrt(2))\n",
    "display(l_eq)"
   ]
  },
  {
   "cell_type": "code",
   "execution_count": 556,
   "metadata": {},
   "outputs": [
    {
     "data": {
      "text/latex": [
       "$\\displaystyle F = F_{1} + F_{2} + F_{3} + F_{4}$"
      ],
      "text/plain": [
       "Eq(F, F_1 + F_2 + F_3 + F_4)"
      ]
     },
     "metadata": {},
     "output_type": "display_data"
    }
   ],
   "source": [
    "total_thrust = sym.Eq(F, F1 + F2 + F3 + F4)\n",
    "display(total_thrust)"
   ]
  },
  {
   "cell_type": "code",
   "execution_count": 557,
   "metadata": {},
   "outputs": [
    {
     "data": {
      "text/latex": [
       "$\\displaystyle \\left[\\begin{matrix}F_{1}\\\\F_{2}\\\\F_{3}\\\\F_{4}\\end{matrix}\\right]$"
      ],
      "text/plain": [
       "Matrix([\n",
       "[F_1],\n",
       "[F_2],\n",
       "[F_3],\n",
       "[F_4]])"
      ]
     },
     "metadata": {},
     "output_type": "display_data"
    }
   ],
   "source": [
    "forces = sym.Matrix((F1, F2, F3, F4))\n",
    "display(forces)"
   ]
  },
  {
   "cell_type": "code",
   "execution_count": 558,
   "metadata": {},
   "outputs": [
    {
     "data": {
      "text/latex": [
       "$\\displaystyle \\left[\\begin{matrix}\\tau_{1}\\\\\\tau_{2}\\\\\\tau_{3}\\\\\\tau_{4}\\end{matrix}\\right]$"
      ],
      "text/plain": [
       "Matrix([\n",
       "[tau_1],\n",
       "[tau_2],\n",
       "[tau_3],\n",
       "[tau_4]])"
      ]
     },
     "metadata": {},
     "output_type": "display_data"
    }
   ],
   "source": [
    "moments = sym.Matrix((tau_1, tau_2, tau_3, tau_4))\n",
    "display(moments)"
   ]
  },
  {
   "cell_type": "code",
   "execution_count": 559,
   "metadata": {},
   "outputs": [
    {
     "data": {
      "text/latex": [
       "$\\displaystyle \\left[\\begin{matrix}\\omega_{1}\\\\\\omega_{2}\\\\\\omega_{3}\\\\\\omega_{4}\\end{matrix}\\right]$"
      ],
      "text/plain": [
       "Matrix([\n",
       "[omega_1],\n",
       "[omega_2],\n",
       "[omega_3],\n",
       "[omega_4]])"
      ]
     },
     "metadata": {},
     "output_type": "display_data"
    }
   ],
   "source": [
    "omegas = sym.Matrix((om_1, om_2, om_3, om_4))\n",
    "display(omegas)"
   ]
  },
  {
   "cell_type": "code",
   "execution_count": 560,
   "metadata": {},
   "outputs": [
    {
     "data": {
      "text/latex": [
       "$\\displaystyle \\left[\\begin{matrix}\\omega_{1}^{2}\\\\\\omega_{2}^{2}\\\\\\omega_{3}^{2}\\\\\\omega_{4}^{2}\\end{matrix}\\right]$"
      ],
      "text/plain": [
       "Matrix([\n",
       "[omega_1**2],\n",
       "[omega_2**2],\n",
       "[omega_3**2],\n",
       "[omega_4**2]])"
      ]
     },
     "metadata": {},
     "output_type": "display_data"
    }
   ],
   "source": [
    "omegas_sq = sym.Matrix((om_1_sq, om_2_sq, om_3_sq, om_4_sq))\n",
    "display(omegas_sq)"
   ]
  },
  {
   "cell_type": "markdown",
   "metadata": {},
   "source": [
    "### Forces from momentum"
   ]
  },
  {
   "cell_type": "code",
   "execution_count": 561,
   "metadata": {},
   "outputs": [
    {
     "data": {
      "text/latex": [
       "$\\displaystyle F_{1} = k_{f} \\omega_{1}^{2}$"
      ],
      "text/plain": [
       "Eq(F_1, k_f*omega_1**2)"
      ]
     },
     "metadata": {},
     "output_type": "display_data"
    },
    {
     "data": {
      "text/latex": [
       "$\\displaystyle F_{2} = k_{f} \\omega_{1}^{2}$"
      ],
      "text/plain": [
       "Eq(F_2, k_f*omega_1**2)"
      ]
     },
     "metadata": {},
     "output_type": "display_data"
    },
    {
     "data": {
      "text/latex": [
       "$\\displaystyle F_{3} = k_{f} \\omega_{1}^{2}$"
      ],
      "text/plain": [
       "Eq(F_3, k_f*omega_1**2)"
      ]
     },
     "metadata": {},
     "output_type": "display_data"
    },
    {
     "data": {
      "text/latex": [
       "$\\displaystyle F_{4} = k_{f} \\omega_{1}^{2}$"
      ],
      "text/plain": [
       "Eq(F_4, k_f*omega_1**2)"
      ]
     },
     "metadata": {},
     "output_type": "display_data"
    }
   ],
   "source": [
    "F1_from_tau_1 = sym.Eq(F1, kf * om_1_sq)\n",
    "F2_from_tau_2 = sym.Eq(F2, kf * om_1_sq)\n",
    "F3_from_tau_3 = sym.Eq(F3, kf * om_1_sq)\n",
    "F4_from_tau_4 = sym.Eq(F4, kf * om_1_sq)\n",
    "\n",
    "display(F1_from_tau_1)\n",
    "display(F2_from_tau_2)\n",
    "display(F3_from_tau_3)\n",
    "display(F4_from_tau_4)"
   ]
  },
  {
   "cell_type": "code",
   "execution_count": 562,
   "metadata": {},
   "outputs": [
    {
     "data": {
      "text/latex": [
       "$\\displaystyle \\left[\\begin{matrix}F_{1}\\\\F_{2}\\\\F_{3}\\\\F_{4}\\end{matrix}\\right] = \\left[\\begin{matrix}k_{f} \\omega_{1}^{2}\\\\k_{f} \\omega_{2}^{2}\\\\k_{f} \\omega_{3}^{2}\\\\k_{f} \\omega_{4}^{2}\\end{matrix}\\right]$"
      ],
      "text/plain": [
       "Eq(Matrix([\n",
       "[F_1],\n",
       "[F_2],\n",
       "[F_3],\n",
       "[F_4]]), Matrix([\n",
       "[k_f*omega_1**2],\n",
       "[k_f*omega_2**2],\n",
       "[k_f*omega_3**2],\n",
       "[k_f*omega_4**2]]))"
      ]
     },
     "metadata": {},
     "output_type": "display_data"
    }
   ],
   "source": [
    "fs_from_taus = sym.Eq(forces, kf * omegas_sq)\n",
    "display(fs_from_taus)"
   ]
  },
  {
   "cell_type": "markdown",
   "metadata": {},
   "source": [
    "In other words, the thrust coefficient $k_f$ is thrust per rotational velocity squared."
   ]
  },
  {
   "cell_type": "markdown",
   "metadata": {},
   "source": [
    "### Momentum from angular velocities"
   ]
  },
  {
   "cell_type": "code",
   "execution_count": 563,
   "metadata": {
    "scrolled": true
   },
   "outputs": [
    {
     "data": {
      "text/latex": [
       "$\\displaystyle \\tau_{1} = k_{m} \\omega_{1}^{2}$"
      ],
      "text/plain": [
       "Eq(tau_1, k_m*omega_1**2)"
      ]
     },
     "metadata": {},
     "output_type": "display_data"
    },
    {
     "data": {
      "text/latex": [
       "$\\displaystyle \\tau_{2} = k_{m} \\omega_{2}^{2}$"
      ],
      "text/plain": [
       "Eq(tau_2, k_m*omega_2**2)"
      ]
     },
     "metadata": {},
     "output_type": "display_data"
    },
    {
     "data": {
      "text/latex": [
       "$\\displaystyle \\tau_{3} = k_{m} \\omega_{3}^{2}$"
      ],
      "text/plain": [
       "Eq(tau_3, k_m*omega_3**2)"
      ]
     },
     "metadata": {},
     "output_type": "display_data"
    },
    {
     "data": {
      "text/latex": [
       "$\\displaystyle \\tau_{4} = k_{m} \\omega_{4}^{2}$"
      ],
      "text/plain": [
       "Eq(tau_4, k_m*omega_4**2)"
      ]
     },
     "metadata": {},
     "output_type": "display_data"
    }
   ],
   "source": [
    "tau_1_from_om_1_sq = sym.Eq(tau_1, km * om_1_sq)\n",
    "tau_2_from_om_2_sq = sym.Eq(tau_2, km * om_2_sq)\n",
    "tau_3_from_om_3_sq = sym.Eq(tau_3, km * om_3_sq)\n",
    "tau_4_from_om_4_sq = sym.Eq(tau_4, km * om_4_sq)\n",
    "\n",
    "display(tau_1_from_om_1_sq)\n",
    "display(tau_2_from_om_2_sq)\n",
    "display(tau_3_from_om_3_sq)\n",
    "display(tau_4_from_om_4_sq)"
   ]
  },
  {
   "cell_type": "code",
   "execution_count": 564,
   "metadata": {},
   "outputs": [
    {
     "data": {
      "text/latex": [
       "$\\displaystyle \\left[\\begin{matrix}\\tau_{1}\\\\\\tau_{2}\\\\\\tau_{3}\\\\\\tau_{4}\\end{matrix}\\right] = \\left[\\begin{matrix}k_{m} \\omega_{1}^{2}\\\\k_{m} \\omega_{2}^{2}\\\\k_{m} \\omega_{3}^{2}\\\\k_{m} \\omega_{4}^{2}\\end{matrix}\\right]$"
      ],
      "text/plain": [
       "Eq(Matrix([\n",
       "[tau_1],\n",
       "[tau_2],\n",
       "[tau_3],\n",
       "[tau_4]]), Matrix([\n",
       "[k_m*omega_1**2],\n",
       "[k_m*omega_2**2],\n",
       "[k_m*omega_3**2],\n",
       "[k_m*omega_4**2]]))"
      ]
     },
     "metadata": {},
     "output_type": "display_data"
    }
   ],
   "source": [
    "taus_from_omegas = sym.Eq(moments, km * omegas_sq)\n",
    "display(taus_from_omegas)"
   ]
  },
  {
   "cell_type": "markdown",
   "metadata": {},
   "source": [
    "In other words, the torque coefficient $k_m$ is torque per rotational velocity squared."
   ]
  },
  {
   "cell_type": "markdown",
   "metadata": {},
   "source": [
    "### About kappa"
   ]
  },
  {
   "cell_type": "markdown",
   "metadata": {},
   "source": [
    "From $k_f$ and $k_m$ we have\n",
    "\n",
    "$$\n",
    "\\omega^2 = \\frac{\\tau}{k_m} = \\frac{F}{k_f}\n",
    "$$\n",
    "\n",
    "and from there,\n",
    "\n",
    "$$\n",
    "\\frac{\\tau}{F} = \\frac{k_m}{k_f}\n",
    "$$\n",
    "\n",
    "From the code, we have $\\kappa$ defined as \"torque (Nm) produced by motor per N of thrust produced\", so\n",
    "\n",
    "$$\n",
    "\\begin{align}\n",
    "\\kappa = \\frac{\\tau}{F} = \\frac{k_m}{k_f}\n",
    "\\end{align}\n",
    "$$"
   ]
  },
  {
   "cell_type": "code",
   "execution_count": 565,
   "metadata": {},
   "outputs": [
    {
     "data": {
      "text/latex": [
       "$\\displaystyle \\left[\\begin{matrix}F_{1}\\\\F_{2}\\\\F_{3}\\\\F_{4}\\end{matrix}\\right] = \\left[\\begin{matrix}\\frac{\\tau_{1}}{\\kappa}\\\\\\frac{\\tau_{2}}{\\kappa}\\\\\\frac{\\tau_{3}}{\\kappa}\\\\\\frac{\\tau_{4}}{\\kappa}\\end{matrix}\\right]$"
      ],
      "text/plain": [
       "Eq(Matrix([\n",
       "[F_1],\n",
       "[F_2],\n",
       "[F_3],\n",
       "[F_4]]), Matrix([\n",
       "[tau_1/kappa],\n",
       "[tau_2/kappa],\n",
       "[tau_3/kappa],\n",
       "[tau_4/kappa]]))"
      ]
     },
     "metadata": {},
     "output_type": "display_data"
    },
    {
     "data": {
      "text/latex": [
       "$\\displaystyle \\left[\\begin{matrix}\\tau_{1}\\\\\\tau_{2}\\\\\\tau_{3}\\\\\\tau_{4}\\end{matrix}\\right] = \\left[\\begin{matrix}F_{1} \\kappa\\\\F_{2} \\kappa\\\\F_{3} \\kappa\\\\F_{4} \\kappa\\end{matrix}\\right]$"
      ],
      "text/plain": [
       "Eq(Matrix([\n",
       "[tau_1],\n",
       "[tau_2],\n",
       "[tau_3],\n",
       "[tau_4]]), Matrix([\n",
       "[F_1*kappa],\n",
       "[F_2*kappa],\n",
       "[F_3*kappa],\n",
       "[F_4*kappa]]))"
      ]
     },
     "metadata": {},
     "output_type": "display_data"
    }
   ],
   "source": [
    "forces_from_torques = sym.Eq(forces, moments / kappa)\n",
    "torques_from_forces = sym.Eq(moments, forces * kappa)\n",
    "\n",
    "display(forces_from_torques)\n",
    "display(torques_from_forces)"
   ]
  },
  {
   "cell_type": "markdown",
   "metadata": {},
   "source": [
    "### u_bar from momentum"
   ]
  },
  {
   "cell_type": "code",
   "execution_count": 566,
   "metadata": {},
   "outputs": [
    {
     "data": {
      "text/latex": [
       "$\\displaystyle u_{p bar} = \\frac{\\tau_{x}}{I_{x}}$"
      ],
      "text/plain": [
       "Eq(u_p_bar, tau_x/I_x)"
      ]
     },
     "metadata": {},
     "output_type": "display_data"
    },
    {
     "data": {
      "text/latex": [
       "$\\displaystyle u_{q bar} = \\frac{\\tau_{y}}{I_{y}}$"
      ],
      "text/plain": [
       "Eq(u_q_bar, tau_y/I_y)"
      ]
     },
     "metadata": {},
     "output_type": "display_data"
    },
    {
     "data": {
      "text/latex": [
       "$\\displaystyle u_{r bar} = \\frac{\\tau_{z}}{I_{z}}$"
      ],
      "text/plain": [
       "Eq(u_r_bar, tau_z/I_z)"
      ]
     },
     "metadata": {},
     "output_type": "display_data"
    }
   ],
   "source": [
    "u_p_bar_from_tau_x = sym.Eq(u_p_bar, tau_x / Ixx)\n",
    "u_q_bar_from_tau_y = sym.Eq(u_q_bar, tau_y / Iyy)\n",
    "u_r_bar_from_tau_z = sym.Eq(u_r_bar, tau_z / Izz)\n",
    "\n",
    "display(u_p_bar_from_tau_x)\n",
    "display(u_q_bar_from_tau_y)\n",
    "display(u_r_bar_from_tau_z)"
   ]
  },
  {
   "cell_type": "markdown",
   "metadata": {},
   "source": [
    "### c_bar"
   ]
  },
  {
   "cell_type": "code",
   "execution_count": 567,
   "metadata": {
    "scrolled": true
   },
   "outputs": [
    {
     "data": {
      "text/latex": [
       "$\\displaystyle c_{bar} = F$"
      ],
      "text/plain": [
       "Eq(c_bar, F)"
      ]
     },
     "metadata": {},
     "output_type": "display_data"
    }
   ],
   "source": [
    "c_bar_from_f = sym.Eq(c_bar, F)\n",
    "\n",
    "display(c_bar_from_f)"
   ]
  },
  {
   "cell_type": "markdown",
   "metadata": {},
   "source": [
    "### p_bar from u_p_bar"
   ]
  },
  {
   "cell_type": "code",
   "execution_count": 568,
   "metadata": {},
   "outputs": [
    {
     "data": {
      "text/latex": [
       "$\\displaystyle p_{bar} = \\frac{I_{x} u_{p bar}}{k_{f} l}$"
      ],
      "text/plain": [
       "Eq(p_bar, I_x*u_p_bar/(k_f*l))"
      ]
     },
     "metadata": {},
     "output_type": "display_data"
    },
    {
     "data": {
      "text/latex": [
       "$\\displaystyle p_{bar} = \\frac{\\tau_{x}}{k_{f} l}$"
      ],
      "text/plain": [
       "Eq(p_bar, tau_x/(k_f*l))"
      ]
     },
     "metadata": {},
     "output_type": "display_data"
    }
   ],
   "source": [
    "p_bar_from_u_p_bar = sym.Eq(p_bar, Ixx * u_p_bar / (k_f * l))\n",
    "p_bar_from_tau_x = p_bar_from_u_p_bar.subs(u_p_bar, u_p_bar_from_tau_x.rhs)\n",
    "\n",
    "display(p_bar_from_u_p_bar)\n",
    "display(p_bar_from_tau_x)"
   ]
  },
  {
   "cell_type": "markdown",
   "metadata": {},
   "source": [
    "### q_bar from u_q_bar"
   ]
  },
  {
   "cell_type": "code",
   "execution_count": 569,
   "metadata": {},
   "outputs": [
    {
     "data": {
      "text/latex": [
       "$\\displaystyle q_{bar} = \\frac{I_{y} u_{q bar}}{k_{f} l}$"
      ],
      "text/plain": [
       "Eq(q_bar, I_y*u_q_bar/(k_f*l))"
      ]
     },
     "metadata": {},
     "output_type": "display_data"
    },
    {
     "data": {
      "text/latex": [
       "$\\displaystyle q_{bar} = \\frac{\\tau_{y}}{k_{f} l}$"
      ],
      "text/plain": [
       "Eq(q_bar, tau_y/(k_f*l))"
      ]
     },
     "metadata": {},
     "output_type": "display_data"
    }
   ],
   "source": [
    "q_bar_from_u_q_bar = sym.Eq(q_bar, Iyy * u_q_bar / (k_f * l))\n",
    "q_bar_from_tau_y = q_bar_from_u_q_bar.subs(u_q_bar, u_q_bar_from_tau_y.rhs)\n",
    "\n",
    "display(q_bar_from_u_q_bar)\n",
    "display(q_bar_from_tau_y)"
   ]
  },
  {
   "cell_type": "markdown",
   "metadata": {},
   "source": [
    "### r_bar from u_r_bar"
   ]
  },
  {
   "cell_type": "code",
   "execution_count": 570,
   "metadata": {},
   "outputs": [
    {
     "data": {
      "text/latex": [
       "$\\displaystyle r_{bar} = \\frac{I_{z} u_{r bar}}{k_{m}}$"
      ],
      "text/plain": [
       "Eq(r_bar, I_z*u_r_bar/k_m)"
      ]
     },
     "metadata": {},
     "output_type": "display_data"
    },
    {
     "data": {
      "text/latex": [
       "$\\displaystyle r_{bar} = \\frac{\\tau_{z}}{k_{m}}$"
      ],
      "text/plain": [
       "Eq(r_bar, tau_z/k_m)"
      ]
     },
     "metadata": {},
     "output_type": "display_data"
    }
   ],
   "source": [
    "r_bar_from_u_r_bar = sym.Eq(r_bar, Izz * u_r_bar / k_m)\n",
    "r_bar_from_tau_z = r_bar_from_u_r_bar.subs(u_r_bar, u_r_bar_from_tau_z.rhs)\n",
    "\n",
    "display(r_bar_from_u_r_bar)\n",
    "display(r_bar_from_tau_z)"
   ]
  },
  {
   "cell_type": "markdown",
   "metadata": {},
   "source": [
    "### Bars are open"
   ]
  },
  {
   "cell_type": "code",
   "execution_count": 571,
   "metadata": {},
   "outputs": [
    {
     "data": {
      "text/latex": [
       "$\\displaystyle \\left[\\begin{matrix}c_{bar}\\\\p_{bar}\\\\q_{bar}\\\\r_{bar}\\end{matrix}\\right] = \\left[\\begin{matrix}F\\\\\\frac{\\tau_{x}}{k_{f} l}\\\\\\frac{\\tau_{y}}{k_{f} l}\\\\\\frac{\\tau_{z}}{k_{m}}\\end{matrix}\\right]$"
      ],
      "text/plain": [
       "Eq(Matrix([\n",
       "[c_bar],\n",
       "[p_bar],\n",
       "[q_bar],\n",
       "[r_bar]]), Matrix([\n",
       "[            F],\n",
       "[tau_x/(k_f*l)],\n",
       "[tau_y/(k_f*l)],\n",
       "[    tau_z/k_m]]))"
      ]
     },
     "metadata": {},
     "output_type": "display_data"
    }
   ],
   "source": [
    "cpqr_bars = sym.Eq(sym.Matrix((c_bar, p_bar, q_bar, r_bar)),\n",
    "                   sym.Matrix((c_bar_from_f.rhs, \n",
    "                               p_bar_from_tau_x.rhs, \n",
    "                               q_bar_from_tau_y.rhs, \n",
    "                               r_bar_from_tau_z.rhs)))\n",
    "display(cpqr_bars)"
   ]
  },
  {
   "cell_type": "code",
   "execution_count": 572,
   "metadata": {},
   "outputs": [
    {
     "data": {
      "text/latex": [
       "$\\displaystyle \\left[\\begin{matrix}c_{bar}\\\\p_{bar}\\\\q_{bar}\\\\r_{bar}\\end{matrix}\\right] = \\left[\\begin{matrix}F\\\\\\frac{\\tau_{x}}{k_{f} l}\\\\\\frac{\\tau_{y}}{k_{f} l}\\\\\\frac{\\tau_{z}}{k_{m}}\\end{matrix}\\right]$"
      ],
      "text/plain": [
       "Eq(Matrix([\n",
       "[c_bar],\n",
       "[p_bar],\n",
       "[q_bar],\n",
       "[r_bar]]), Matrix([\n",
       "[            F],\n",
       "[tau_x/(k_f*l)],\n",
       "[tau_y/(k_f*l)],\n",
       "[    tau_z/k_m]]))"
      ]
     },
     "execution_count": 572,
     "metadata": {},
     "output_type": "execute_result"
    }
   ],
   "source": [
    "cpqr_bars.subs(F1, F1_from_tau_1.rhs)\\\n",
    "         .subs(F2, F2_from_tau_2.rhs)\\\n",
    "         .subs(F3, F3_from_tau_3.rhs)\\\n",
    "         .subs(F4, F4_from_tau_4.rhs)"
   ]
  },
  {
   "cell_type": "markdown",
   "metadata": {},
   "source": [
    "### An attempt at solving it"
   ]
  },
  {
   "cell_type": "code",
   "execution_count": 573,
   "metadata": {},
   "outputs": [
    {
     "data": {
      "text/latex": [
       "$\\displaystyle \\left[\\begin{matrix}\\tau_{x}\\\\\\tau_{y}\\\\\\tau_{z}\\end{matrix}\\right]$"
      ],
      "text/plain": [
       "Matrix([\n",
       "[tau_x],\n",
       "[tau_y],\n",
       "[tau_z]])"
      ]
     },
     "metadata": {},
     "output_type": "display_data"
    }
   ],
   "source": [
    "moments_xyz = sym.Matrix((tau_x, tau_y, tau_z))\n",
    "display(moments_xyz)"
   ]
  },
  {
   "cell_type": "markdown",
   "metadata": {},
   "source": [
    "The roll and pitch moments $\\tau_x$ and $\\tau_y$ can be determined trivially by the motor forces and the perpendicular distance of the motors; the yaw moment then is the result of the individual torques and determined by their sum. Note, however, that their direction of rotation needs to be incorporated, such that\n",
    "\n",
    "$$\n",
    "\\tau_z = \\tau_1 - \\tau_2 + \\tau_3 - \\tau_4\n",
    "$$\n",
    "\n",
    "This gives"
   ]
  },
  {
   "cell_type": "code",
   "execution_count": 574,
   "metadata": {},
   "outputs": [
    {
     "data": {
      "text/latex": [
       "$\\displaystyle \\left[\\begin{matrix}\\tau_{x}\\\\\\tau_{y}\\\\\\tau_{z}\\end{matrix}\\right] = \\left[\\begin{matrix}l \\left(F_{1} - F_{2} - F_{3} + F_{4}\\right)\\\\l \\left(F_{1} + F_{2} - F_{3} - F_{4}\\right)\\\\\\tau_{1} - \\tau_{2} + \\tau_{3} - \\tau_{4}\\end{matrix}\\right]$"
      ],
      "text/plain": [
       "Eq(Matrix([\n",
       "[tau_x],\n",
       "[tau_y],\n",
       "[tau_z]]), Matrix([\n",
       "[    l*(F_1 - F_2 - F_3 + F_4)],\n",
       "[    l*(F_1 + F_2 - F_3 - F_4)],\n",
       "[tau_1 - tau_2 + tau_3 - tau_4]]))"
      ]
     },
     "metadata": {},
     "output_type": "display_data"
    }
   ],
   "source": [
    "eq_tau_xyz = sym.Eq(moments_xyz, sym.Matrix([\n",
    "                   (F1 - F2 - F3 + F4) * l,\n",
    "                   (F1 + F2 - F3 - F4) * l,\n",
    "                   tau_1 - tau_2 + tau_3 - tau_4]))\n",
    "display(eq_tau_xyz)"
   ]
  },
  {
   "cell_type": "markdown",
   "metadata": {},
   "source": [
    "Now as we established above, the motor's torque and force are coupled via $\\kappa$. Recall that"
   ]
  },
  {
   "cell_type": "code",
   "execution_count": 575,
   "metadata": {},
   "outputs": [
    {
     "data": {
      "text/latex": [
       "$\\displaystyle \\left[\\begin{matrix}\\tau_{1}\\\\\\tau_{2}\\\\\\tau_{3}\\\\\\tau_{4}\\end{matrix}\\right] = \\left[\\begin{matrix}F_{1} \\kappa\\\\F_{2} \\kappa\\\\F_{3} \\kappa\\\\F_{4} \\kappa\\end{matrix}\\right]$"
      ],
      "text/plain": [
       "Eq(Matrix([\n",
       "[tau_1],\n",
       "[tau_2],\n",
       "[tau_3],\n",
       "[tau_4]]), Matrix([\n",
       "[F_1*kappa],\n",
       "[F_2*kappa],\n",
       "[F_3*kappa],\n",
       "[F_4*kappa]]))"
      ]
     },
     "metadata": {},
     "output_type": "display_data"
    }
   ],
   "source": [
    "display(torques_from_forces)"
   ]
  },
  {
   "cell_type": "code",
   "execution_count": 576,
   "metadata": {},
   "outputs": [
    {
     "data": {
      "text/latex": [
       "$\\displaystyle \\left[\\begin{matrix}\\tau_{x}\\\\\\tau_{y}\\\\\\tau_{z}\\end{matrix}\\right] = \\left[\\begin{matrix}l \\left(F_{1} - F_{2} - F_{3} + F_{4}\\right)\\\\l \\left(F_{1} + F_{2} - F_{3} - F_{4}\\right)\\\\\\kappa \\left(F_{1} - F_{2} + F_{3} - F_{4}\\right)\\end{matrix}\\right]$"
      ],
      "text/plain": [
       "Eq(Matrix([\n",
       "[tau_x],\n",
       "[tau_y],\n",
       "[tau_z]]), Matrix([\n",
       "[    l*(F_1 - F_2 - F_3 + F_4)],\n",
       "[    l*(F_1 + F_2 - F_3 - F_4)],\n",
       "[kappa*(F_1 - F_2 + F_3 - F_4)]]))"
      ]
     },
     "metadata": {},
     "output_type": "display_data"
    }
   ],
   "source": [
    "eq_tau_xyz_from_forces = \\\n",
    "    eq_tau_xyz.subs(tau_1, F1*kappa)\\\n",
    "              .subs(tau_2, F2*kappa)\\\n",
    "              .subs(tau_3, F3*kappa)\\\n",
    "              .subs(tau_4, F4*kappa).simplify()\n",
    "display(eq_tau_xyz_from_forces)"
   ]
  },
  {
   "cell_type": "markdown",
   "metadata": {},
   "source": [
    "Right now, we have four degrees of freedom with only three controlling variables; however, we do know that\n",
    "\n",
    "$$\n",
    "F = F_1 + F_2 + F_3 + F_4.\n",
    "$$"
   ]
  },
  {
   "cell_type": "code",
   "execution_count": 577,
   "metadata": {},
   "outputs": [
    {
     "data": {
      "text/latex": [
       "$\\displaystyle \\left[\\begin{matrix}F\\\\\\tau_{x}\\\\\\tau_{y}\\\\\\tau_{z}\\end{matrix}\\right] = \\left[\\begin{matrix}F_{1} + F_{2} + F_{3} + F_{4}\\\\l \\left(F_{1} - F_{2} - F_{3} + F_{4}\\right)\\\\l \\left(F_{1} + F_{2} - F_{3} - F_{4}\\right)\\\\\\kappa \\left(F_{1} - F_{2} + F_{3} - F_{4}\\right)\\end{matrix}\\right]$"
      ],
      "text/plain": [
       "Eq(Matrix([\n",
       "[    F],\n",
       "[tau_x],\n",
       "[tau_y],\n",
       "[tau_z]]), Matrix([\n",
       "[        F_1 + F_2 + F_3 + F_4],\n",
       "[    l*(F_1 - F_2 - F_3 + F_4)],\n",
       "[    l*(F_1 + F_2 - F_3 - F_4)],\n",
       "[kappa*(F_1 - F_2 + F_3 - F_4)]]))"
      ]
     },
     "metadata": {},
     "output_type": "display_data"
    }
   ],
   "source": [
    "system = sym.Eq(\n",
    "    sym.Matrix((F, tau_x, tau_y, tau_z)),\n",
    "    sym.Matrix((\n",
    "        total_thrust.rhs,\n",
    "        eq_tau_xyz_from_forces.rhs[0],\n",
    "        eq_tau_xyz_from_forces.rhs[1],\n",
    "        eq_tau_xyz_from_forces.rhs[2]\n",
    "    ))\n",
    ")\n",
    "display(system)"
   ]
  },
  {
   "cell_type": "markdown",
   "metadata": {},
   "source": [
    "When we separate the variables, we get the matrix"
   ]
  },
  {
   "cell_type": "code",
   "execution_count": 578,
   "metadata": {},
   "outputs": [
    {
     "data": {
      "text/latex": [
       "$\\displaystyle \\left[\\begin{matrix}1 & 1 & 1 & 1\\\\l & - l & - l & l\\\\l & l & - l & - l\\\\\\kappa & - \\kappa & \\kappa & - \\kappa\\end{matrix}\\right]$"
      ],
      "text/plain": [
       "Matrix([\n",
       "[    1,      1,     1,      1],\n",
       "[    l,     -l,    -l,      l],\n",
       "[    l,      l,    -l,     -l],\n",
       "[kappa, -kappa, kappa, -kappa]])"
      ]
     },
     "metadata": {},
     "output_type": "display_data"
    }
   ],
   "source": [
    "result_vec = sym.Matrix((F, tau_x, tau_y, tau_z))\n",
    "system_mtx = sym.Matrix(((1,  1,  1,  1), \n",
    "                         (l, -l, -l,  l),\n",
    "                         (l,  l, -l, -l),\n",
    "                         (kappa,-kappa,  kappa, -kappa)))\n",
    "\n",
    "display(system_mtx)"
   ]
  },
  {
   "cell_type": "markdown",
   "metadata": {},
   "source": [
    "Checking the determinant tells us that the rows are independent (a condition that is required for a matrix to be invertible):"
   ]
  },
  {
   "cell_type": "code",
   "execution_count": 579,
   "metadata": {},
   "outputs": [
    {
     "data": {
      "text/latex": [
       "$\\displaystyle - 16 \\kappa l^{2}$"
      ],
      "text/plain": [
       "-16*kappa*l**2"
      ]
     },
     "execution_count": 579,
     "metadata": {},
     "output_type": "execute_result"
    }
   ],
   "source": [
    "system_mtx.det()"
   ]
  },
  {
   "cell_type": "markdown",
   "metadata": {},
   "source": [
    "Let's quickly verify the system is indeed correct:"
   ]
  },
  {
   "cell_type": "code",
   "execution_count": 580,
   "metadata": {},
   "outputs": [
    {
     "data": {
      "text/latex": [
       "$\\displaystyle \\left[\\begin{matrix}F\\\\\\tau_{x}\\\\\\tau_{y}\\\\\\tau_{z}\\end{matrix}\\right] = \\left[\\begin{matrix}F_{1} + F_{2} + F_{3} + F_{4}\\\\l \\left(F_{1} - F_{2} - F_{3} + F_{4}\\right)\\\\l \\left(F_{1} + F_{2} - F_{3} - F_{4}\\right)\\\\\\kappa \\left(F_{1} - F_{2} + F_{3} - F_{4}\\right)\\end{matrix}\\right]$"
      ],
      "text/plain": [
       "Eq(Matrix([\n",
       "[    F],\n",
       "[tau_x],\n",
       "[tau_y],\n",
       "[tau_z]]), Matrix([\n",
       "[        F_1 + F_2 + F_3 + F_4],\n",
       "[    l*(F_1 - F_2 - F_3 + F_4)],\n",
       "[    l*(F_1 + F_2 - F_3 - F_4)],\n",
       "[kappa*(F_1 - F_2 + F_3 - F_4)]]))"
      ]
     },
     "metadata": {},
     "output_type": "display_data"
    }
   ],
   "source": [
    "display(sym.Eq(result_vec, system_mtx * forces).simplify())"
   ]
  },
  {
   "cell_type": "code",
   "execution_count": 581,
   "metadata": {},
   "outputs": [
    {
     "data": {
      "text/latex": [
       "$\\displaystyle F_{1} = \\frac{F}{4} + \\frac{\\tau_{x}}{4 l} + \\frac{\\tau_{y}}{4 l} + \\frac{\\tau_{z}}{4 \\kappa}$"
      ],
      "text/plain": [
       "Eq(F_1, F/4 + tau_x/(4*l) + tau_y/(4*l) + tau_z/(4*kappa))"
      ]
     },
     "metadata": {},
     "output_type": "display_data"
    },
    {
     "data": {
      "text/latex": [
       "$\\displaystyle F_{2} = \\frac{F}{4} - \\frac{\\tau_{x}}{4 l} + \\frac{\\tau_{y}}{4 l} - \\frac{\\tau_{z}}{4 \\kappa}$"
      ],
      "text/plain": [
       "Eq(F_2, F/4 - tau_x/(4*l) + tau_y/(4*l) - tau_z/(4*kappa))"
      ]
     },
     "metadata": {},
     "output_type": "display_data"
    },
    {
     "data": {
      "text/latex": [
       "$\\displaystyle F_{3} = \\frac{F}{4} - \\frac{\\tau_{x}}{4 l} - \\frac{\\tau_{y}}{4 l} + \\frac{\\tau_{z}}{4 \\kappa}$"
      ],
      "text/plain": [
       "Eq(F_3, F/4 - tau_x/(4*l) - tau_y/(4*l) + tau_z/(4*kappa))"
      ]
     },
     "metadata": {},
     "output_type": "display_data"
    },
    {
     "data": {
      "text/latex": [
       "$\\displaystyle F_{4} = \\frac{F}{4} + \\frac{\\tau_{x}}{4 l} - \\frac{\\tau_{y}}{4 l} - \\frac{\\tau_{z}}{4 \\kappa}$"
      ],
      "text/plain": [
       "Eq(F_4, F/4 + tau_x/(4*l) - tau_y/(4*l) - tau_z/(4*kappa))"
      ]
     },
     "metadata": {},
     "output_type": "display_data"
    }
   ],
   "source": [
    "results = sym.solve(sym.Eq(result_vec, system_mtx * forces), forces, simplify=False)\n",
    "\n",
    "for key in results:\n",
    "    display(sym.Eq(key, results[key]))"
   ]
  },
  {
   "cell_type": "code",
   "execution_count": 582,
   "metadata": {},
   "outputs": [
    {
     "data": {
      "text/latex": [
       "$\\displaystyle \\left[\\begin{matrix}\\frac{F}{4} + \\frac{\\tau_{x}}{4 l} + \\frac{\\tau_{y}}{4 l} + \\frac{\\tau_{z}}{4 \\kappa}\\\\\\frac{F}{4} - \\frac{\\tau_{x}}{4 l} + \\frac{\\tau_{y}}{4 l} - \\frac{\\tau_{z}}{4 \\kappa}\\\\\\frac{F}{4} - \\frac{\\tau_{x}}{4 l} - \\frac{\\tau_{y}}{4 l} + \\frac{\\tau_{z}}{4 \\kappa}\\\\\\frac{F}{4} + \\frac{\\tau_{x}}{4 l} - \\frac{\\tau_{y}}{4 l} - \\frac{\\tau_{z}}{4 \\kappa}\\end{matrix}\\right]$"
      ],
      "text/plain": [
       "Matrix([\n",
       "[F/4 + tau_x/(4*l) + tau_y/(4*l) + tau_z/(4*kappa)],\n",
       "[F/4 - tau_x/(4*l) + tau_y/(4*l) - tau_z/(4*kappa)],\n",
       "[F/4 - tau_x/(4*l) - tau_y/(4*l) + tau_z/(4*kappa)],\n",
       "[F/4 + tau_x/(4*l) - tau_y/(4*l) - tau_z/(4*kappa)]])"
      ]
     },
     "execution_count": 582,
     "metadata": {},
     "output_type": "execute_result"
    }
   ],
   "source": [
    "system_mtx.inv()*result_vec"
   ]
  }
 ],
 "metadata": {
  "kernelspec": {
   "display_name": "Python [conda env:udacity-fcnd] *",
   "language": "python",
   "name": "conda-env-udacity-fcnd-py"
  },
  "language_info": {
   "codemirror_mode": {
    "name": "ipython",
    "version": 3
   },
   "file_extension": ".py",
   "mimetype": "text/x-python",
   "name": "python",
   "nbconvert_exporter": "python",
   "pygments_lexer": "ipython3",
   "version": "3.6.10"
  }
 },
 "nbformat": 4,
 "nbformat_minor": 4
}
